{
 "cells": [
  {
   "cell_type": "markdown",
   "metadata": {},
   "source": [
    "### 简单层的实现\n",
    "\n",
    "#### 乘法层的实现"
   ]
  },
  {
   "cell_type": "code",
   "execution_count": 1,
   "metadata": {},
   "outputs": [],
   "source": [
    "# 乘法层的实现\n",
    "class MulLayer(object):\n",
    "    def __init__(self):\n",
    "        self.x = None\n",
    "        self.y = None\n",
    "        \n",
    "    def forward(self,x,y):\n",
    "        self.x = x\n",
    "        self.y = y\n",
    "        \n",
    "        out = self.x * self.y\n",
    "        return out\n",
    "    \n",
    "    def backward(self,dout):\n",
    "        \n",
    "        # 翻转 x 和 y\n",
    "        dx = dout * self.y\n",
    "        dy = dout * self.x\n",
    "        \n",
    "        return dx,dy            "
   ]
  },
  {
   "cell_type": "markdown",
   "metadata": {},
   "source": [
    "![误差反向传播](./img/error_backward_apple-1.png)"
   ]
  },
  {
   "cell_type": "code",
   "execution_count": 13,
   "metadata": {},
   "outputs": [
    {
     "name": "stdout",
     "output_type": "stream",
     "text": [
      "220.00000000000003\n"
     ]
    }
   ],
   "source": [
    "apple = 100\n",
    "num = 2\n",
    "tax = 1.1\n",
    "\n",
    "mul_apple_layer = MulLayer()\n",
    "mul_tax_layer = MulLayer()\n",
    "\n",
    "apple_price = mul_apple_layer.forward(apple,num)\n",
    "price = mul_tax_layer.forward(apple_price,tax)\n",
    "print(price)"
   ]
  },
  {
   "cell_type": "code",
   "execution_count": 16,
   "metadata": {},
   "outputs": [
    {
     "name": "stdout",
     "output_type": "stream",
     "text": [
      "2.2 110.00000000000001 200\n"
     ]
    }
   ],
   "source": [
    "dout = 1\n",
    "dapple_price,dtax = mul_tax_layer.backward(dout)\n",
    "dapple,dnum = mul_apple_layer.backward(dapple_price)\n",
    "\n",
    "print(dapple,dnum,dtax)"
   ]
  },
  {
   "cell_type": "markdown",
   "metadata": {},
   "source": [
    "#### 加法层的实现"
   ]
  },
  {
   "cell_type": "code",
   "execution_count": 22,
   "metadata": {},
   "outputs": [],
   "source": [
    "# 加法层的实现\n",
    "class AddLayer(object):\n",
    "    def __init__(self):\n",
    "        pass\n",
    "    \n",
    "    def forward(self,x,y):\n",
    "        return x + y\n",
    "    \n",
    "    def backward(self,dout):\n",
    "        dx = dout\n",
    "        dy = dout\n",
    "        return dx,dy"
   ]
  },
  {
   "cell_type": "markdown",
   "metadata": {},
   "source": [
    "![误差反向传播](./img/error_backward_apple_orange-1.png)"
   ]
  },
  {
   "cell_type": "code",
   "execution_count": 23,
   "metadata": {},
   "outputs": [
    {
     "name": "stdout",
     "output_type": "stream",
     "text": [
      "715.0000000000001\n"
     ]
    }
   ],
   "source": [
    "# forwark\n",
    "mul_apple_layer = MulLayer()\n",
    "apple_num = 2\n",
    "apple = 100\n",
    "apple_price = mul_apple_layer.forward(apple,apple_num)\n",
    "\n",
    "mul_orange_layer = MulLayer()\n",
    "orange_num = 3\n",
    "orange = 150\n",
    "orange_price = mul_orange_layer.forward(orange,orange_num)\n",
    "\n",
    "add_apple_orange_layer = AddLayer()\n",
    "apple_orange_total_price = add_apple_orange_layer.forward(apple_price,orange_price)\n",
    "\n",
    "mul_tax_layer = MulLayer()\n",
    "tax = 1.1\n",
    "\n",
    "total_price = mul_tax_layer.forward(apple_orange_total_price,tax)\n",
    "print(total_price)"
   ]
  },
  {
   "cell_type": "code",
   "execution_count": 31,
   "metadata": {},
   "outputs": [
    {
     "name": "stdout",
     "output_type": "stream",
     "text": [
      "2.2 110.00000000000001 3.3000000000000003 165.0 650\n"
     ]
    }
   ],
   "source": [
    "# backward\n",
    "dout = 1\n",
    "dtotal_price,dtax = mul_tax_layer.backward(dout)\n",
    "# print(dtax,dtotal_price) # 650 1.1\n",
    "\n",
    "dapple_price,dorange_price = add_apple_orange_layer.backward(dtotal_price)\n",
    "# print(dapple_price,dorange_price) # 1.1 1.1\n",
    "\n",
    "dapple,dapple_num = mul_apple_layer.backward(dapple_price) # 2.2  110\n",
    "dorange,dorange_num = mul_orange_layer.backward(dorange_price) # 3.3 165\n",
    "\n",
    "print(dapple,dapple_num,dorange,dorange_num,dtax)"
   ]
  },
  {
   "cell_type": "markdown",
   "metadata": {},
   "source": [
    "### 激活函数层的实现\n",
    "\n",
    "#### ReLU层\n",
    "\n",
    "激活函数式子：\n",
    "\n",
    "![ReLU函数](./img/ReLU_function.png)\n",
    "\n",
    "求导：\n",
    "\n",
    "![ReLU函数的导数](./img/ReLU_function_1.png)\n",
    "\n",
    "ReLU的计算图：\n",
    "\n",
    "![ReLU计算图](./img/ReLU_compute_map.png)\n",
    "\n",
    "代码实现："
   ]
  },
  {
   "cell_type": "code",
   "execution_count": 1,
   "metadata": {},
   "outputs": [],
   "source": [
    "class ReLU(object):\n",
    "    def __init__(self):\n",
    "        self.mask = None # Numpy 的数组\n",
    "        \n",
    "    def forwark(self,x):\n",
    "        self.mask = (x <= 0) # 数组中所有小于等于0 的元素都为True，反之都为False\n",
    "        out = x.copy()\n",
    "        out[self.mask] = 0 #  out 数组中元素为True 设置为0\n",
    "        \n",
    "        return out\n",
    "    \n",
    "    def backward(self,dout):\n",
    "        dout[self.mask] = 0\n",
    "        dx = dout\n",
    "        \n",
    "        return dx"
   ]
  },
  {
   "cell_type": "code",
   "execution_count": 5,
   "metadata": {},
   "outputs": [
    {
     "name": "stdout",
     "output_type": "stream",
     "text": [
      "[ True  True  True False False]\n",
      "[0 0 0 1 3]\n"
     ]
    }
   ],
   "source": [
    "import numpy as np\n",
    "a = np.array([-1,0,-2,1,3])\n",
    "b = (a<=0)\n",
    "\n",
    "c = a.copy()\n",
    "print(b)\n",
    "c[b] = 0\n",
    "print(c)"
   ]
  },
  {
   "cell_type": "markdown",
   "metadata": {},
   "source": [
    "#### sigmoid的实现\n",
    "\n",
    "![sigmoid函数](./img/sigmoid_function.png)\n",
    "\n",
    "用计算图的正向传播方式表示：\n",
    "\n",
    "![sigmoid正向图表示](./img/sigmoid_compute_map_forward.png)\n",
    "\n",
    "反向传播的方式表示：\n",
    "\n",
    "![sigmoid反向图表示](./img/sigmoid_compute_map_backward.png)\n",
    "\n",
    "sigmoid层的计算图（简洁版）：\n",
    "\n",
    "![sigmoid反向图简洁表示](./img/sigmoid_compute_map_backward_simple.png)\n",
    "\n",
    "代码实现："
   ]
  },
  {
   "cell_type": "code",
   "execution_count": 6,
   "metadata": {},
   "outputs": [],
   "source": [
    "class Sigmoid(object):\n",
    "    def __init__(self):\n",
    "        self.out = None\n",
    "        \n",
    "    def forward(self,x):\n",
    "        self.out = 1 / (1 + np.exp(-x))\n",
    "        return self.out\n",
    "    \n",
    "    def backward(self,dout):\n",
    "        dx = dout * self.out * (1 - self.out)"
   ]
  },
  {
   "cell_type": "markdown",
   "metadata": {},
   "source": [
    "### Affine / softmax 层的实现\n",
    "\n",
    "#### Affine 层\n",
    "\n",
    "Y = WX + B，代码实现如下：\n",
    "\n",
    "```py\n",
    "Y = np.dot(W, X) + B\n",
    "```\n",
    "\n",
    "矩阵的乘积运算规则，对应的维度的元素个数必须保持一致:\n",
    "\n",
    "![矩阵运算规则](./img/matrix_dot_rule.png)\n",
    "\n",
    "反向误差传播：\n",
    "\n",
    "![affine反向误差传播](./img/Affine_error_backward.png)\n",
    "\n",
    "**注意变量是多维数组，反向传播时各个变量的下方标记了该变量的形状**\n",
    "\n",
    "矩阵的乘积（dot）的反向传播可以通过组建矩阵对应维度的个数一致的乘积运算推导出来。\n",
    "\n",
    "![矩阵dot反向传播](./img/matrix_dot_backward.png)\n",
    "\n",
    "#### 批版本的 Affine 反向传播\n",
    "\n",
    "批版本的Affine计算图：\n",
    "\n",
    "![affine反向误差传播](./img/Affine_error_backward_1.png)\n",
    "\n",
    "代码实现："
   ]
  },
  {
   "cell_type": "code",
   "execution_count": null,
   "metadata": {},
   "outputs": [],
   "source": [
    "class Affine(object):\n",
    "    def __init__(self,W,b):\n",
    "        self.W = W\n",
    "        self.b = b\n",
    "        self.x = None\n",
    "        self.db = None\n",
    "        self.dW = None\n",
    "        \n",
    "    def forward(self,x):\n",
    "        self.x = x\n",
    "        out = np.dot(self.x,self.W)+b\n",
    "        return out\n",
    "    \n",
    "    def backward(self,dout):\n",
    "        dx = np.dot(dout,self.W.T)\n",
    "        self.dW = np.dot(self.x.T,dout)\n",
    "        self.db = np.sum(dout,axis=0)\n",
    "        \n",
    "        return dx"
   ]
  },
  {
   "cell_type": "code",
   "execution_count": 9,
   "metadata": {},
   "outputs": [
    {
     "name": "stdout",
     "output_type": "stream",
     "text": [
      "(2, 3) (3, 2) (2,)\n",
      "[ 7 10 13]\n"
     ]
    }
   ],
   "source": [
    "import numpy as np\n",
    "\n",
    "a = np.array([[1,2,3],[3,4,5]])\n",
    "b = np.array([[1,2],[3,4],[5,6]])\n",
    "c = np.array([1,2])\n",
    "print(a.shape,b.shape,c.shape)\n",
    "\n",
    "print(np.dot(c,a))"
   ]
  },
  {
   "cell_type": "code",
   "execution_count": 14,
   "metadata": {},
   "outputs": [
    {
     "name": "stdout",
     "output_type": "stream",
     "text": [
      "[0.26480739 0.931451  ] [[0.13866054 0.66792245 0.33969711]\n",
      " [0.57991565 0.80654025 0.61827041]] [0.56606727 0.49242016 0.55381385]\n",
      "[1.14294862 1.42054368 1.21965675]\n"
     ]
    }
   ],
   "source": [
    "x = np.random.rand(2)\n",
    "w = np.random.rand(2,3)\n",
    "b = np.random.rand(3)\n",
    "\n",
    "print(x,w,b)\n",
    "print(np.dot(x,w)+b)"
   ]
  },
  {
   "cell_type": "markdown",
   "metadata": {},
   "source": [
    "### 误差反向传播法的实现\n",
    "\n",
    "#### 神经网络学习的全貌图\n",
    "\n",
    "1. 前提\n",
    "\n",
    "神经网络有合适权重和偏置，调整权重和偏置以便拟合训练数据的过程称为学习。神经网络的学习有以下4个步骤：\n",
    "\n",
    "+ 步骤1（mini - batch）\n",
    "\n",
    "从训练数据中随机选择一部分数据。\n",
    "\n",
    "+ 步骤2 （计算梯度）\n",
    "\n",
    "计算损失函数关于各个权重参数的梯度。\n",
    "\n",
    "+ 步骤3（更新参数）\n",
    "\n",
    "将权重参数根据梯度进行微小的更新\n",
    "\n",
    "+ 步骤4（重复）\n",
    "\n",
    "重复步骤1、2、3。\n",
    "\n",
    "#### 对应误差反向传播法的神经网络实现\n",
    "\n",
    "\n",
    "\n",
    "\n"
   ]
  },
  {
   "cell_type": "code",
   "execution_count": null,
   "metadata": {},
   "outputs": [],
   "source": []
  }
 ],
 "metadata": {
  "kernelspec": {
   "display_name": "Python 3",
   "language": "python",
   "name": "python3"
  },
  "language_info": {
   "codemirror_mode": {
    "name": "ipython",
    "version": 3
   },
   "file_extension": ".py",
   "mimetype": "text/x-python",
   "name": "python",
   "nbconvert_exporter": "python",
   "pygments_lexer": "ipython3",
   "version": "3.7.3"
  }
 },
 "nbformat": 4,
 "nbformat_minor": 2
}
